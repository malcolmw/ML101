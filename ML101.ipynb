{
 "cells": [
  {
   "cell_type": "markdown",
   "id": "22b7ff49-867f-4c8d-ab06-55bb03b2db53",
   "metadata": {},
   "source": [
    "# ML101:  A short course on machine learning\n",
    "#### Malcolm C. A. White and Nori Nakata\n",
    "\n",
    "*Machine learning* (ML) refers to a diverse set of computer algorithms that are designed to \"learn\" how to make inferences from input data. ML is a component of Artifical Intelligence (AI), the study of reasoned decision making in machines.\n",
    "\n",
    "In this short course, we will look at two main problems that ML algorithms attempt to solve: a) **classification** and b) **regression**. There are many other problems that ML algorithms attempt to solve, but we will limit ourselves to this pair of related problems for this short course. For our purposes, we will treat classification problems as those where we wish to infer the value of a categorical or discrete, numerical variable for a set of independent input variables, and we will treat regression problems as those where we wish to infer the value of a continuous, numerical variable from a set of independent input variables.\n",
    "\n",
    "In service of solutions to these classes of problems, we will investigate *clustering*, *supervised learning*, and *dimensionality reduction* techniques. We will also investigate *Artificial Neural Networks* (ANN)."
   ]
  },
  {
   "cell_type": "code",
   "execution_count": null,
   "id": "9c05600a-fc43-491d-8373-4199485b2b97",
   "metadata": {},
   "outputs": [],
   "source": [
    "# %matplotlib ipympl\n",
    "%matplotlib inline\n",
    "\n",
    "import matplotlib.pyplot as plt\n",
    "import numpy as np\n",
    "import pandas as pd\n",
    "import sklearn.cluster\n",
    "import sklearn.datasets\n",
    "import seaborn as sns\n",
    "\n",
    "sns.set_theme()"
   ]
  },
  {
   "cell_type": "markdown",
   "id": "09d8fcef-cc4c-47f6-a812-fa0fc2e08df9",
   "metadata": {},
   "source": [
    "# **1. Classification**\n",
    "\n",
    "First, let's load and display the Iris data set, which contains data from three species of Iris flowers."
   ]
  },
  {
   "cell_type": "code",
   "execution_count": null,
   "id": "185ae7fe-82bc-4b8b-a4ca-e6c58025941d",
   "metadata": {},
   "outputs": [],
   "source": [
    "data = sklearn.datasets.load_iris()\n",
    "labels = data[\"target_names\"]\n",
    "df = pd.DataFrame(data[\"data\"], columns=data[\"feature_names\"])\n",
    "df[\"species\"] = labels[data[\"target\"]]\n",
    "df.columns = [\"_\".join(column.split()[:2]) for column in df.columns]\n",
    "df"
   ]
  },
  {
   "cell_type": "markdown",
   "id": "3d97dc6b-c3bb-4f08-b26c-0fea728667ed",
   "metadata": {},
   "source": [
    "As you can see, our data set comprises a sample of 150 cases (rows), split evenly between the three species. In each case, four measurements were taken: the a) sepal length, b) sepal width), c) petal length, and d) petal width. Let's see if, given only these four measurements, we can accurately classify the species for each case.\n",
    "\n",
    "We can create a set of plots to show relationships between the different explanatory variables"
   ]
  },
  {
   "cell_type": "code",
   "execution_count": null,
   "id": "84b4826f-ef2c-44ba-92c7-1bdaa7ffdd4a",
   "metadata": {},
   "outputs": [],
   "source": [
    "plt.close(\"all\")\n",
    "sns.pairplot(data=df, hue=\"species\");"
   ]
  },
  {
   "cell_type": "markdown",
   "id": "c527ad59-6cff-42ab-a4db-b2cd57159df8",
   "metadata": {},
   "source": [
    "Let's separate our data into *training* and *test* data sets. Our training data set will comprise 90% of the original data and will be used to build our models for making useful inferences. The test data set will comprise the remaining 10% and will be used to test the accuracy of our models."
   ]
  },
  {
   "cell_type": "code",
   "execution_count": null,
   "id": "6596a668-6fcd-4a30-a4a3-f8ac10e77ac0",
   "metadata": {},
   "outputs": [],
   "source": [
    "df_train = df.sample(frac=0.9)\n",
    "df_test = df.loc[~df.index.isin(df_train.index)]\n",
    "\n",
    "df_train = df_train.reset_index(drop=True)\n",
    "df_test = df_test.reset_index(drop=True)"
   ]
  },
  {
   "cell_type": "markdown",
   "id": "10f74978-39c7-44e1-82af-3642803eb574",
   "metadata": {},
   "source": [
    "## **1.1 *k*-means clustering**"
   ]
  },
  {
   "cell_type": "markdown",
   "id": "74758ccb-d001-4129-a668-b67bfc804aa2",
   "metadata": {},
   "source": [
    "We see that the different species tend to cluster in different regions of the plots above. The *K-means* clustering algorithm aims to find the center of each cluster; each point is then associated with the nearest cluster center. The cell below will perform K-means clustering and plot the resulting cluster assignments."
   ]
  },
  {
   "cell_type": "code",
   "execution_count": null,
   "id": "7dc27e1a-5c30-485b-9200-de04df157525",
   "metadata": {},
   "outputs": [],
   "source": [
    "n_clusters = 3\n",
    "features = [\"sepal_length\", \"sepal_width\", \"petal_length\", \"petal_width\"]\n",
    "\n",
    "classifier = sklearn.cluster.KMeans(\n",
    "    n_clusters=n_clusters, \n",
    "    random_state=0\n",
    ").fit(\n",
    "    df_train[features]\n",
    ")\n",
    "\n",
    "df_train[\"cluster_id\"] = classifier.labels_\n",
    "df_train[\"cluster_id\"] = df_train[\"cluster_id\"].astype(str)\n",
    "\n",
    "plt.close(\"all\")\n",
    "sns.pairplot(\n",
    "    data=df_train, \n",
    "    hue=\"cluster_id\",\n",
    "    hue_order=sorted(df_train[\"cluster_id\"].unique())\n",
    ");"
   ]
  },
  {
   "cell_type": "markdown",
   "id": "ccdd531f-960f-4307-834b-a3080d7097b3",
   "metadata": {},
   "source": [
    "We can see how many of each species were assigned to each cluster."
   ]
  },
  {
   "cell_type": "code",
   "execution_count": null,
   "id": "8aaf735c-6607-48bd-a5d4-d681682988eb",
   "metadata": {},
   "outputs": [],
   "source": [
    "df_train.groupby([\"cluster_id\", \"species\"]).size()"
   ]
  },
  {
   "cell_type": "markdown",
   "id": "c722114a-3201-4c27-a52e-46aa06a42e34",
   "metadata": {},
   "source": [
    "All Setosa species cases were assigned to cluster \\#0, and no other species were. Cluster \\#1 comprises primarily Viginica species, and cluster \\#2 comprises primarily Versicolor species. Because we have a one-to-one mapping between the cluster IDs inferred by the model and the species, we can define this map:"
   ]
  },
  {
   "cell_type": "code",
   "execution_count": null,
   "id": "512357b5-d693-467d-8a88-e63f1b6e7ade",
   "metadata": {},
   "outputs": [],
   "source": [
    "counts = df_train.groupby([\"cluster_id\", \"species\"]).size()\n",
    "counts.name = \"size\"\n",
    "counts = counts.reset_index()\n",
    "counts = counts.sort_values([\"cluster_id\", \"size\"])\n",
    "counts = counts.drop_duplicates(subset=\"cluster_id\")\n",
    "counts[\"cluster_id\"] = counts[\"cluster_id\"].astype(int)\n",
    "clust2spec = counts.set_index(\"cluster_id\")[\"species\"]\n",
    "spec2clust = counts.set_index(\"species\")[\"cluster_id\"]"
   ]
  },
  {
   "cell_type": "markdown",
   "id": "313deea0-ca3f-4306-83af-ea055f3bf992",
   "metadata": {},
   "source": [
    "And we can infer the species for each case in our test data set."
   ]
  },
  {
   "cell_type": "code",
   "execution_count": null,
   "id": "e4c8c3f7-d452-40c1-8f9b-53fb62ce4160",
   "metadata": {},
   "outputs": [],
   "source": [
    "df_test[\"inferred_species\"] = clust2spec.loc[classifier.predict(df_test[features])].values\n",
    "df_test"
   ]
  },
  {
   "cell_type": "markdown",
   "id": "ff8f0d54-aa04-4c35-bea2-a45811cf5c49",
   "metadata": {},
   "source": [
    "From the above, we see that our simple classifier has a modest accuracy around 50%.\n",
    "\n",
    "A further drawback to the K-means algorithm is that the user must specify the desired number of clusters. Try changing the `n_clusters` variable at the beginning of the exercise in this section to see how the clustering is affected by the chosen number of clusters. Note that if the number of clusters is not equal to the number of species, we will not have a one-to-one map between cluster IDs and species, so the latter part of the analysis above will fail."
   ]
  },
  {
   "cell_type": "markdown",
   "id": "cb903235-7239-49db-8c53-1927457c9820",
   "metadata": {},
   "source": [
    "## **1.2 Support-Vector Machines (SVM)**\n",
    "\n",
    "An alternative approach to solving the classification problem is using *Support Vector Machines* (SVM)."
   ]
  },
  {
   "cell_type": "code",
   "execution_count": null,
   "id": "db6cb5af-16db-4f32-8bba-c3e57395f393",
   "metadata": {},
   "outputs": [],
   "source": [
    "classifier = sklearn.svm.SVC().fit(df_train[features], df_train[\"species\"])"
   ]
  },
  {
   "cell_type": "code",
   "execution_count": null,
   "id": "c83c2ee4-e6e4-4893-b983-270a1d2c6829",
   "metadata": {},
   "outputs": [],
   "source": [
    "classifier.predict(df_test[features])"
   ]
  },
  {
   "cell_type": "markdown",
   "id": "0754155f-cb5c-4a5d-a592-69a057587df1",
   "metadata": {},
   "source": [
    "## **1.3 Random Forests**"
   ]
  },
  {
   "cell_type": "markdown",
   "id": "f44dd5c3-c574-4cba-a00f-9f67dc1236e1",
   "metadata": {},
   "source": [
    "# **2. Regression**"
   ]
  },
  {
   "cell_type": "markdown",
   "id": "7873a2e5-acac-43be-9315-59d1381cffb2",
   "metadata": {},
   "source": [
    "## **2.1 Linear regression**"
   ]
  },
  {
   "cell_type": "markdown",
   "id": "16b23cbd-185b-4d38-81a9-59e901b9534f",
   "metadata": {},
   "source": [
    "## **2.2 Aritifical Neural Networks**"
   ]
  },
  {
   "cell_type": "markdown",
   "id": "8ad8b1a1-551e-4955-a5b7-5801cc1f82b7",
   "metadata": {},
   "source": [
    "## **2.3**"
   ]
  }
 ],
 "metadata": {
  "kernelspec": {
   "display_name": "Python [conda env:py39]",
   "language": "python",
   "name": "conda-env-py39-py"
  },
  "language_info": {
   "codemirror_mode": {
    "name": "ipython",
    "version": 3
   },
   "file_extension": ".py",
   "mimetype": "text/x-python",
   "name": "python",
   "nbconvert_exporter": "python",
   "pygments_lexer": "ipython3",
   "version": "3.9.6"
  }
 },
 "nbformat": 4,
 "nbformat_minor": 5
}
